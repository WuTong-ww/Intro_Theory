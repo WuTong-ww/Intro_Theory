{
 "cells": [
  {
   "cell_type": "markdown",
   "metadata": {},
   "source": [
    "1. 读取data中2023_6文件夹中的openrank数据集，分析美国排名前一百的项目的的value的最大值、最小值、均值以及中位数。"
   ]
  },
  {
   "cell_type": "code",
   "execution_count": 1,
   "metadata": {},
   "outputs": [
    {
     "name": "stdout",
     "output_type": "stream",
     "text": [
      "最大值: 1394.45\n",
      "最小值: 200.68\n",
      "均值: 346.9679\n",
      "中位数: 273.66999999999996\n"
     ]
    }
   ],
   "source": [
    "import pandas as pd\n",
    "\n",
    "file_path = '2023_6/open_rank_20236.csv'\n",
    "data = pd.read_csv(file_path)\n",
    "\n",
    "top_100_projects = data[data['rank'] <= 100]\n",
    "\n",
    "value_max = top_100_projects['value'].max()\n",
    "value_min = top_100_projects['value'].min()\n",
    "value_mean = top_100_projects['value'].mean()\n",
    "value_median = top_100_projects['value'].median()\n",
    "\n",
    "print(\"最大值:\", value_max)\n",
    "print(\"最小值:\", value_min)\n",
    "print(\"均值:\", value_mean)\n",
    "print(\"中位数:\", value_median)\n"
   ]
  },
  {
   "cell_type": "markdown",
   "metadata": {},
   "source": [
    "2. 读取data中2022文件夹下的activity_2020文件，分析美国排名前十的项目的平均增长率。"
   ]
  },
  {
   "cell_type": "code",
   "execution_count": 4,
   "metadata": {},
   "outputs": [
    {
     "name": "stdout",
     "output_type": "stream",
     "text": [
      "平均增长率: 0.012502691855077125\n"
     ]
    }
   ],
   "source": [
    "file_path='2022/activity_2022.csv'\n",
    "data_2022=pd.read_csv(file_path)\n",
    "top_10_projects_2022=data_2022.head(10)\n",
    "\n",
    "growth_rates = []\n",
    "\n",
    "for index, row in top_10_projects_2022.iterrows():\n",
    "    monthly_values = row[1:].values\n",
    "    monthly_growth = [(monthly_values[i+1] - monthly_values[i]) / monthly_values[i] for i in range(len(monthly_values) - 1)]\n",
    "    average_growth = sum(monthly_growth) / len(monthly_growth)\n",
    "    growth_rates.append(average_growth)\n",
    "\n",
    "average_growth_rate_top_10 = sum(growth_rates) / len(growth_rates)\n",
    "print(\"平均增长率:\", average_growth_rate_top_10)\n"
   ]
  },
  {
   "cell_type": "markdown",
   "metadata": {},
   "source": [
    "3. data/2022/china_2022.csv表示中国开源领域排名前十的企业。data/2022/global_2022.csv表示开源领域全球前十的的企业，请通过各种统计指标比较两者的各种数据差异。"
   ]
  },
  {
   "cell_type": "code",
   "execution_count": 5,
   "metadata": {},
   "outputs": [
    {
     "name": "stdout",
     "output_type": "stream",
     "text": [
      "中国开源企业统计数据:\n",
      "                count       mean           std       min         25%  \\\n",
      "issue_comment    10.0  61205.500  49332.487917  11741.00  30943.5000   \n",
      "open_issue       10.0   9169.200   6810.653563    752.00   4625.2500   \n",
      "open_pull        10.0  16912.700  10068.922805   1823.00   9376.7500   \n",
      "review_comment   10.0  19857.500  21115.073490   2113.00   3120.0000   \n",
      "merged_pull      10.0  13764.100   7692.752064   1165.00   8067.2500   \n",
      "rank             10.0      5.500      3.027650      1.00      3.2500   \n",
      "value            10.0  40269.534  30905.171810  12033.71  15161.0375   \n",
      "rankDelta        10.0      5.300      9.944848      0.00      0.0000   \n",
      "valueDelta       10.0   9265.007   5327.824003   2329.36   5268.9475   \n",
      "\n",
      "                      50%         75%        max  \n",
      "issue_comment   39141.000  82179.5000  167814.00  \n",
      "open_issue       6889.500  14225.5000   22397.00  \n",
      "open_pull       15953.000  22483.2500   35266.00  \n",
      "review_comment  10851.000  31507.7500   60402.00  \n",
      "merged_pull     13705.500  18216.2500   26732.00  \n",
      "rank                5.500      7.7500      10.00  \n",
      "value           29789.235  58554.9625  103368.49  \n",
      "rankDelta           0.000      3.2500      25.00  \n",
      "valueDelta       9882.000  10666.0700   21093.11  \n",
      "\n",
      "全球开源企业统计数据:\n",
      "                count        mean            std       min         25%  \\\n",
      "issue_comment    10.0  341409.400  422610.256775  78530.00  97800.7500   \n",
      "open_issue       10.0   43300.200   54001.071938  13162.00  16630.5000   \n",
      "open_pull        10.0   83423.000   87658.295125  27414.00  32980.0000   \n",
      "review_comment   10.0  120392.100  128239.763444  35072.00  49480.0000   \n",
      "merged_pull      10.0   62472.000   73265.180035  15418.00  22151.5000   \n",
      "rank             10.0       5.500       3.027650      1.00      3.2500   \n",
      "value            10.0  215855.491  235189.889662  71636.82  89080.3125   \n",
      "rankDelta        10.0       0.100       0.994429     -2.00      0.0000   \n",
      "valueDelta       10.0   11906.921   26288.856142 -47388.58   7749.4325   \n",
      "\n",
      "                       50%          75%         max  \n",
      "issue_comment   178629.000  315616.0000  1437317.00  \n",
      "open_issue       21648.000   38010.5000   189185.00  \n",
      "open_pull        49103.500  102867.0000   309685.00  \n",
      "review_comment   70433.500  148395.0000   456166.00  \n",
      "merged_pull      33288.000   75093.7500   257123.00  \n",
      "rank                 5.500       7.7500       10.00  \n",
      "value           102790.850  252184.7325   824848.67  \n",
      "rankDelta            0.000       1.0000        1.00  \n",
      "valueDelta       14209.235   22235.5550    57536.09  \n"
     ]
    }
   ],
   "source": [
    "import pandas as pd\n",
    "\n",
    "china_file_path = '2022/china_2022.csv'  \n",
    "global_file_path = '2022/global_2022.csv'\n",
    "\n",
    "china_data = pd.read_csv(china_file_path)\n",
    "global_data = pd.read_csv(global_file_path)\n",
    "\n",
    "china_stats = china_data.describe().T\n",
    "global_stats = global_data.describe().T\n",
    "\n",
    "print(\"中国开源企业统计数据:\")\n",
    "print(china_stats)\n",
    "\n",
    "print(\"\\n全球开源企业统计数据:\")\n",
    "print(global_stats)\n"
   ]
  },
  {
   "cell_type": "markdown",
   "metadata": {},
   "source": [
    "4. 贝叶斯定理\n",
    "\n",
    "    贝叶斯定理参考：https://zh.wikipedia.org/wiki/%E8%B4%9D%E5%8F%B6%E6%96%AF%E5%AE%9A%E7%90%86\n",
    "\n",
    "    根据 OpenLeaderboard 上对前 10000 个活跃的项目统计，工具组件型项目占比 50 %，系统应用型占比 25 %，而内容资源型（非软件类）项目占比 25 %，成三分天下的态势。\n",
    "\n",
    "    非软件类项目中，带有 HTML/Markdown 标签的项目占 85 %，而软件类项目中带 HTML/Markdown标签的项目占比则为 10 %（注：HTML/Markdown 一般可用来书写文档内容）\n",
    "\n",
    "    工具组件型项目中，JavaScript 语言的项目占比 35 %，而非工具组件型项目中， JavaScript 语言的项目占比则为 10 %（注：JavaScript 是一种脚本编程语言，可以在网页上实现复杂的功能）\n",
    "\n",
    "    已知一个项目带有 HTML/Markdown 标签，那么该项目是非软件型项目的概率是多少？"
   ]
  },
  {
   "cell_type": "code",
   "execution_count": 6,
   "metadata": {},
   "outputs": [
    {
     "name": "stdout",
     "output_type": "stream",
     "text": [
      "在带有 HTML/Markdown 标签的情况下，项目为非软件类项目的概率: 0.7391304347826088\n"
     ]
    }
   ],
   "source": [
    "# 给定的概率\n",
    "P_A = 0.25  # 非软件类项目的比例\n",
    "P_B_given_A = 0.85  # 在非软件类项目中带有 HTML/Markdown 标签的项目比例\n",
    "P_not_A = 0.75  # 软件类项目的比例\n",
    "P_B_given_not_A = 0.10  # 在软件类项目中带有 HTML/Markdown 标签的项目比例\n",
    "\n",
    "# 计算 P(B)，即带有 HTML/Markdown 标签的项目的总体概率\n",
    "P_B = P_B_given_A * P_A + P_B_given_not_A * P_not_A\n",
    "\n",
    "# 计算 P(A|B)，即在已知带有 HTML/Markdown 标签的情况下，项目为非软件类项目的概率\n",
    "P_A_given_B = (P_B_given_A * P_A) / P_B\n",
    "\n",
    "print(\"在带有 HTML/Markdown 标签的情况下，项目为非软件类项目的概率:\", P_A_given_B)\n"
   ]
  },
  {
   "cell_type": "markdown",
   "metadata": {},
   "source": [
    "5. 接上文，已知一个项目是由 JavaScript 语言编写的，那么它是工具组件型项目的概率是多少？"
   ]
  },
  {
   "cell_type": "code",
   "execution_count": 7,
   "metadata": {},
   "outputs": [
    {
     "name": "stdout",
     "output_type": "stream",
     "text": [
      "在由 JavaScript 语言编写的情况下，项目为工具组件型项目的概率: 0.7777777777777778\n"
     ]
    }
   ],
   "source": [
    "# 给定的概率\n",
    "P_C = 0.50  # 工具组件型项目的比例\n",
    "P_D_given_C = 0.35  # 在工具组件型项目中由 JavaScript 语言编写的项目比例\n",
    "P_not_C = 0.50  # 非工具组件型项目的比例\n",
    "P_D_given_not_C = 0.10  # 在非工具组件型项目中由 JavaScript 语言编写的项目比例\n",
    "\n",
    "# 计算 P(D)，即由 JavaScript 语言编写的项目的总体概率\n",
    "P_D = P_D_given_C * P_C + P_D_given_not_C * P_not_C\n",
    "\n",
    "# 计算 P(C|D)，即在已知项目由 JavaScript 语言编写的情况下，该项目为工具组件型项目的概率\n",
    "P_C_given_D = (P_D_given_C * P_C) / P_D\n",
    "\n",
    "print(\"在由 JavaScript 语言编写的情况下，项目为工具组件型项目的概率:\", P_C_given_D)\n"
   ]
  },
  {
   "cell_type": "markdown",
   "metadata": {},
   "source": [
    "6. 根据以下数据建立可视化无向图\n",
    "\n",
    "    user = [1, 2, 3, 4] \n",
    "\n",
    "    edge = [(1, 2), (2, 3), (3, 4), (4, 1)]"
   ]
  },
  {
   "cell_type": "code",
   "execution_count": null,
   "metadata": {},
   "outputs": [
    {
     "name": "stdout",
     "output_type": "stream",
     "text": [
      "debug\n",
      "debug\n",
      "debug\n",
      "debug\n"
     ]
    }
   ],
   "source": [
    "import networkx as nx\n",
    "import matplotlib.pyplot as plt\n",
    "\n",
    "# 定义用户节点和边\n",
    "user = [1, 2, 3, 4]\n",
    "edge = [(1, 2), (2, 3), (3, 4), (4, 1)]\n",
    "\n",
    "# 创建无向图\n",
    "G = nx.Graph()\n",
    "print(\"debug\")\n",
    "G.add_nodes_from(user)\n",
    "print(\"debug\")\n",
    "G.add_edges_from(edge)\n",
    "print(\"debug\")\n",
    "\n",
    "# 绘制图形\n",
    "plt.figure(figsize=(6, 6))\n",
    "print(\"debug\")\n",
    "nx.draw(G, with_labels=True, node_size=700, font_size=15, font_weight='bold')\n",
    "print(\"debug\")\n",
    "plt.title(\"无向图\")\n",
    "print(\"debug\")\n",
    "plt.show()\n"
   ]
  },
  {
   "cell_type": "markdown",
   "metadata": {},
   "source": [
    "7. 根据以下数据建立可视化**有向图**\n",
    "\n",
    "    users = [0, 1, 2, 3, 4, 5, 6, 7, 8, 9]\n",
    "    \n",
    "    edges = [(0, 1), (1, 0), (0, 2), (2, 0), (1, 2),\n",
    "                (2, 1), (1, 3), (2, 3), (3, 4), (5, 4),\n",
    "                (5, 6), (7, 5), (6, 8), (8, 7), (8, 9)]"
   ]
  },
  {
   "cell_type": "markdown",
   "metadata": {},
   "source": [
    "8. 针对第七题构建的有向图，计算并输出每个节点的pagerank值。同时根据pagerank调整可视化图的大小，使得PageRank越大的节点在可视化结果中也越大。\n",
    "    pageRank算法原理：https://zh.wikipedia.org/wiki/PageRank"
   ]
  }
 ],
 "metadata": {
  "kernelspec": {
   "display_name": "Python 3 (ipykernel)",
   "language": "python",
   "name": "python3"
  },
  "language_info": {
   "codemirror_mode": {
    "name": "ipython",
    "version": 3
   },
   "file_extension": ".py",
   "mimetype": "text/x-python",
   "name": "python",
   "nbconvert_exporter": "python",
   "pygments_lexer": "ipython3",
   "version": "3.9.18"
  }
 },
 "nbformat": 4,
 "nbformat_minor": 2
}
