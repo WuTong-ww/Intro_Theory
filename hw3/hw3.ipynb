{
 "cells": [
  {
   "cell_type": "markdown",
   "metadata": {},
   "source": [
    "1.编写 Python程序,判断输入a是否为质数"
   ]
  },
  {
   "cell_type": "code",
   "execution_count": 20,
   "metadata": {},
   "outputs": [
    {
     "name": "stdout",
     "output_type": "stream",
     "text": [
      "请输入一个数：\n",
      "a= 256\n",
      "256不是质数\n"
     ]
    }
   ],
   "source": [
    "def prime(n):\n",
    "    if n==1:\n",
    "        return 0\n",
    "    for i in range(2,n+1):\n",
    "        s=n%i\n",
    "        if s==0:\n",
    "            break\n",
    "    if i==n:\n",
    "        return 1\n",
    "    else:\n",
    "        return 0\n",
    "        \n",
    "print(\"请输入一个数：\")\n",
    "a=int(input())\n",
    "print(\"a=\",a)\n",
    "if prime(a):\n",
    "    print(f\"{a}是质数\")\n",
    "else:\n",
    "    print(f\"{a}不是质数\")"
   ]
  },
  {
   "cell_type": "markdown",
   "metadata": {},
   "source": [
    "2.用Python实现插入排序该算法，不允许直接调用插入排序函数，需要手动实现其逻辑过程。"
   ]
  },
  {
   "cell_type": "code",
   "execution_count": 13,
   "metadata": {},
   "outputs": [
    {
     "name": "stdout",
     "output_type": "stream",
     "text": [
      "[5, 2, 4, 6, 1, 3]\n",
      "插入排序结果：\n",
      "[1, 2, 3, 4, 5, 6]\n"
     ]
    }
   ],
   "source": [
    "def Insertion_Sort(A):\n",
    "    for j in range(1,len(A)):\n",
    "        key=A[j]\n",
    "        i=j-1\n",
    "        while i>=0 and A[i]>key:\n",
    "            A[i+1]=A[i]\n",
    "            i=i-1\n",
    "        A[i+1]=key\n",
    "    return A\n",
    "\n",
    "A=[5,2,4,6,1,3]\n",
    "print(A)\n",
    "print(\"插入排序结果：\")\n",
    "print(Insertion_Sort(A))"
   ]
  },
  {
   "cell_type": "markdown",
   "metadata": {},
   "source": [
    "3.用Python实现选择排序该算法，不允许直接调用插入排序函数，需要手动实现其逻辑过程。"
   ]
  },
  {
   "cell_type": "code",
   "execution_count": 14,
   "metadata": {},
   "outputs": [
    {
     "name": "stdout",
     "output_type": "stream",
     "text": [
      "[5, 2, 4, 6, 1, 3]\n",
      "选择排序结果：\n",
      "[1, 2, 3, 4, 5, 6]\n"
     ]
    }
   ],
   "source": [
    "def Select_Sort(A):\n",
    "    for j in range(0,len(A)):\n",
    "        min=A[j]\n",
    "        mindex=j\n",
    "        for i in range(j+1,len(A)):\n",
    "            if A[i]<min:\n",
    "                min=A[i]\n",
    "                mindex=i\n",
    "        tmp=A[j]\n",
    "        A[j]=A[mindex]\n",
    "        A[mindex]=tmp\n",
    "    return A\n",
    "\n",
    "A=[5,2,4,6,1,3]\n",
    "print(A)\n",
    "print(\"选择排序结果：\")\n",
    "print(Select_Sort(A))"
   ]
  },
  {
   "cell_type": "markdown",
   "metadata": {},
   "source": [
    "4.用Python实现快速排序该算法，不允许直接调用插入排序函数，需要手动实现其逻辑过程。"
   ]
  },
  {
   "cell_type": "code",
   "execution_count": 21,
   "metadata": {},
   "outputs": [
    {
     "name": "stdout",
     "output_type": "stream",
     "text": [
      "[5, 2, 4, 6, 1, 3]\n",
      "快速排序结果：\n",
      "[1, 2, 3, 4, 5, 6]\n"
     ]
    }
   ],
   "source": [
    "def Partition(A,p,r):\n",
    "    x=A[r]\n",
    "    i=p-1\n",
    "    for j in range(p,r):\n",
    "        if A[j]<=x:\n",
    "            i=i+1\n",
    "            tmp=A[i]\n",
    "            A[i]=A[j]\n",
    "            A[j]=tmp\n",
    "    tmp=A[i+1]\n",
    "    A[i+1]=A[r]\n",
    "    A[r]=tmp\n",
    "    return i+1\n",
    "\n",
    "def QuickSort(A,p,r):\n",
    "    if p<r:\n",
    "        q=Partition(A,p,r)\n",
    "        QuickSort(A,p,q-1)\n",
    "        QuickSort(A,q+1,r)\n",
    "    return A\n",
    "\n",
    "A=[5,2,4,6,1,3]\n",
    "print(A)\n",
    "print(\"快速排序结果：\")\n",
    "print(QuickSort(A,0,len(A)-1))\n"
   ]
  },
  {
   "cell_type": "markdown",
   "metadata": {},
   "source": [
    "5.使用 Python 随机生成三组长度递增的随机数列，长度分别为100、1000、10000，对生成的随机数组使用不同的排序算法，例如选择排序和归并排序，至少三种排序方法。对这些数列的数据排序，并分析不同排序算法在不同长度数列下的运行效果，例如运行时间等指标。"
   ]
  },
  {
   "cell_type": "code",
   "execution_count": 21,
   "metadata": {},
   "outputs": [],
   "source": [
    "import random\n",
    "\n",
    "def GenerateList():\n",
    "    L100=[random.randint(1,100) for _ in range(100)]\n",
    "    L1000=[random.randint(1,1000) for _ in range(1000)]\n",
    "    L10000=[random.randint(1,10000) for _ in range(10000)]\n",
    "    return L100,L1000,L10000\n",
    "\n",
    "L100,L1000,L10000=GenerateList()\n",
    "# print(f\"长度为100的数列：{L100}\")\n",
    "# print(f\"长度为1000的数列：{L1000}\")\n",
    "# print(f\"长度为10000的数列：{L10000}\")"
   ]
  },
  {
   "cell_type": "code",
   "execution_count": 22,
   "metadata": {},
   "outputs": [
    {
     "name": "stdout",
     "output_type": "stream",
     "text": [
      "Insertion_Sort排序长度为100的数组耗时：0.0004693000000770553\n",
      "Insertion_Sort排序长度为1000的数组耗时：0.05142309999973804\n",
      "Insertion_Sort排序长度为10000的数组耗时：4.52357209999991\n",
      "Select_Sort排序长度为100的数组耗时：0.0003310000001874869\n",
      "Select_Sort排序长度为1000的数组耗时：0.030860800000482413\n",
      "Select_Sort排序长度为10000的数组耗时：3.1166200999996363\n",
      "QuickSort排序长度为100的数组耗时：0.0002792000004774309\n",
      "QuickSort排序长度为1000的数组耗时：0.0027343000001565088\n",
      "QuickSort排序长度为10000的数组耗时：0.038430699999480566\n"
     ]
    }
   ],
   "source": [
    "import timeit\n",
    "from functools import partial\n",
    "\n",
    "def CompareTime(L100,L1000,L10000):\n",
    "    for sort_func in [Insertion_Sort,Select_Sort,QuickSort]:\n",
    "        for lst,size in [(L100,100),(L1000,1000),(L10000,10000)]:\n",
    "            if sort_func.__name__=='QuickSort':\n",
    "                time=timeit.timeit(partial(sort_func,lst.copy(),0,len(lst)-1),number=1)\n",
    "            else:\n",
    "                time=timeit.timeit(lambda:sort_func(lst.copy()),number=1)\n",
    "            print(f\"{sort_func.__name__}排序长度为{size}的数组耗时：{time}\")\n",
    "            \n",
    "CompareTime(L100,L1000,L10000)"
   ]
  },
  {
   "cell_type": "code",
   "execution_count": 25,
   "metadata": {},
   "outputs": [
    {
     "data": {
      "image/png": "[encoded data removed]",
      "text/plain": [
       "<Figure size 640x480 with 1 Axes>"
      ]
     },
     "metadata": {},
     "output_type": "display_data"
    }
   ],
   "source": [
    "import matplotlib.pyplot as plt\n",
    "plt.rcParams['font.sans-serif'] = ['SimHei']  # 使用黑体\n",
    "plt.rcParams['axes.unicode_minus'] = False  # 解决负号显示问题\n",
    "\n",
    "def plot(algorithm,time100,time1000,time10000):\n",
    "    sizes=[100,1000,10000]\n",
    "    for i,sort_func in enumerate(algorithm):\n",
    "        plt.plot(sizes,[time100[i],time1000[i],time10000[i]],label=sort_func)\n",
    "        \n",
    "    plt.xlabel('数组长度')\n",
    "    plt.ylabel('运行时间 (秒)')\n",
    "    plt.title('排序算法运行时间比较')\n",
    "    plt.legend()\n",
    "    plt.grid(True)\n",
    "    plt.show()\n",
    "\n",
    "# 排序算法名称\n",
    "sorting_algorithms = ['Insertion_Sort', 'Select_Sort', 'Quick_Sort']\n",
    "\n",
    "# 对应的运行时间数据\n",
    "times_100 = [0.0004693000000770553, 0.0003310000001874869, 0.0002792000004774309]\n",
    "times_1000 = [0.05142309999973804, 0.030860800000482413, 0.0027343000001565088]\n",
    "times_10000 = [4.52357209999991, 3.1166200999996363, 0.038430699999480566]\n",
    "\n",
    "# 调用绘图函数\n",
    "plot(sorting_algorithms, times_100, times_1000, times_10000)"
   ]
  },
  {
   "cell_type": "markdown",
   "metadata": {},
   "source": [
    "6.使用python代码获取当前系统时间"
   ]
  },
  {
   "cell_type": "code",
   "execution_count": 15,
   "metadata": {},
   "outputs": [
    {
     "name": "stdout",
     "output_type": "stream",
     "text": [
      "当前系统时间是：2024-10-15 23:08:40\n"
     ]
    }
   ],
   "source": [
    "from datetime import datetime\n",
    "\n",
    "current_time = datetime.now().strftime('%Y-%m-%d %H:%M:%S')\n",
    "print(f\"当前系统时间是：{current_time}\")"
   ]
  },
  {
   "cell_type": "markdown",
   "metadata": {},
   "source": [
    "7.homework/data文件夹下的stuGrade.csv文件中包含5位同学的学号、语文成绩、数学成绩和英语成绩，请先用记事本打开该文件，查看文件内容，然后编写Python程序，读取该文件，并计算出各科的平均成绩（保留2位小数）。"
   ]
  },
  {
   "cell_type": "code",
   "execution_count": 4,
   "metadata": {},
   "outputs": [
    {
     "name": "stdout",
     "output_type": "stream",
     "text": [
      "['stuID,chinese,math,english\\n', '10381,74,87,82\\n', '10382,92,88,90\\n', '10383,87,82,81\\n', '10384,98,97,96\\n', '10385,62,51,60\\n']\n"
     ]
    }
   ],
   "source": [
    "import os\n",
    "\n",
    "current_dir = os.getcwd()\n",
    "\n",
    "file_path = os.path.join(current_dir, 'hw3', 'stuGrade.txt')\n",
    "with open(file_path,'r') as file:\n",
    "    #content=file.read()\n",
    "    lines=file.readlines()\n",
    "#print(content)\n",
    "print(lines)\n"
   ]
  },
  {
   "cell_type": "code",
   "execution_count": 5,
   "metadata": {},
   "outputs": [
    {
     "name": "stdout",
     "output_type": "stream",
     "text": [
      "chinese的平均成绩是：82.60\n",
      "math的平均成绩是：81.00\n",
      "english的平均成绩是：81.80\n"
     ]
    }
   ],
   "source": [
    "headers=lines[0].strip().split(',')[1:]\n",
    "scores={header:[] for header in headers}\n",
    "\n",
    "for line in lines[1:]:\n",
    "    data=line.strip().split(',')\n",
    "    for i,score in enumerate(data[1:]):\n",
    "        scores[headers[i]].append(int(score))\n",
    "\n",
    "averages={header: sum(scores[header])/len(scores[header]) for header in headers}\n",
    "\n",
    "for subject,average in averages.items():\n",
    "    print(f\"{subject}的平均成绩是：{average:.2f}\")"
   ]
  },
  {
   "cell_type": "markdown",
   "metadata": {},
   "source": [
    "8.请在第7题的代码继续编写Python程序，将以下内容写入my.txt文件中，一并上传到github中。"
   ]
  },
  {
   "cell_type": "markdown",
   "metadata": {},
   "source": [
    "第1行：你的学号和姓名\n",
    "\n",
    "第2行：3门课程的平均成绩（任意课程），保留2位小数，以英文逗号间隔\n",
    "\n",
    "第3行：系统当前时间，格式例如2020-01-01 12:00:00\n",
    "\n",
    "第4行：两秒后的系统当前时间（利用sleep()方法）"
   ]
  },
  {
   "cell_type": "code",
   "execution_count": 16,
   "metadata": {},
   "outputs": [
    {
     "name": "stdout",
     "output_type": "stream",
     "text": [
      "结果已写入D:\\Learning\\Microsoft VS Code\\VSCode-win32-x64-1.94.0\\hw3\\my.txt\n"
     ]
    }
   ],
   "source": [
    "import time\n",
    "output_path= os.path.join(current_dir, 'hw3','my.txt')\n",
    "id=str(10222140442)\n",
    "name=\"吴彤\"\n",
    "with open(output_path,'w',encoding='utf-8') as file:\n",
    "    file.write(id+\",\"+name+\"\\n\")\n",
    "    for subject,average in averages.items():\n",
    "        if subject!=\"english\":\n",
    "            file.write(f\"{subject}{average:.2f},\")\n",
    "        else:\n",
    "            file.write(f\"{subject}{average:.2f}\\n\")\n",
    "    current_time = datetime.now().strftime('%Y-%m-%d %H:%M:%S')\n",
    "    file.write(f\"系统当前时间：{current_time}\\n\")\n",
    "    time.sleep(2)\n",
    "    new_time = datetime.now().strftime('%Y-%m-%d %H:%M:%S')\n",
    "    file.write(f\"两秒后的系统当前时间：{new_time}\")\n",
    "print(f\"结果已写入{output_path}\")"
   ]
  }
 ],
 "metadata": {
  "kernelspec": {
   "display_name": "pytorch",
   "language": "python",
   "name": "python3"
  },
  "language_info": {
   "codemirror_mode": {
    "name": "ipython",
    "version": 3
   },
   "file_extension": ".py",
   "mimetype": "text/x-python",
   "name": "python",
   "nbconvert_exporter": "python",
   "pygments_lexer": "ipython3",
   "version": "3.9.18"
  }
 },
 "nbformat": 4,
 "nbformat_minor": 2
}
