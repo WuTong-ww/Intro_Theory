{
 "cells": [
  {
   "cell_type": "markdown",
   "metadata": {},
   "source": [
    "1、打印\"数据科学与工程导论\"，并使用 print(chr(0x2605)) 语句将星星包围起来。"
   ]
  },
  {
   "cell_type": "code",
   "execution_count": 1,
   "metadata": {},
   "outputs": [
    {
     "name": "stdout",
     "output_type": "stream",
     "text": [
      "★★★★★★★★★★★\n",
      "★数据科学与工程导论★\n",
      "★★★★★★★★★★★\n"
     ]
    }
   ],
   "source": [
    "print(chr(0x2605)*11)\n",
    "print(chr(0x2605)+\"数据科学与工程导论\"+chr(0x2605))\n",
    "print(chr(0x2605)*11)"
   ]
  },
  {
   "cell_type": "markdown",
   "metadata": {},
   "source": [
    "2、输入 x, y, z 这三个数，将这三个数从小到大使用 print 函数打印出来。"
   ]
  },
  {
   "cell_type": "code",
   "execution_count": 5,
   "metadata": {},
   "outputs": [
    {
     "name": "stdout",
     "output_type": "stream",
     "text": [
      "请输入三个数x,y,z:\n",
      "x= 3\n",
      "y= 2\n",
      "z= 1\n",
      "该三个数从小到大排列：\n",
      "1 2 3\n"
     ]
    }
   ],
   "source": [
    "print(\"请输入三个数x,y,z:\")\n",
    "x=input()\n",
    "y=input()\n",
    "z=input()\n",
    "\n",
    "print(\"x=\",x)\n",
    "print(\"y=\",y)\n",
    "print(\"z=\",z)\n",
    "if x>y:\n",
    "    x,y=y,x\n",
    "if x>z:\n",
    "    x,z=z,x\n",
    "if y>z:\n",
    "    y,z=z,y\n",
    "\n",
    "print(\"该三个数从小到大排列：\")\n",
    "print(x,y,z)"
   ]
  },
  {
   "cell_type": "markdown",
   "metadata": {},
   "source": [
    "3、有 w, x, y, z 四个数，将这四个数从大到小使用 print 函数打印出来。\n"
   ]
  },
  {
   "cell_type": "code",
   "execution_count": 6,
   "metadata": {},
   "outputs": [
    {
     "name": "stdout",
     "output_type": "stream",
     "text": [
      "请输入四个数：\n",
      "w= 1\n",
      "x= 2\n",
      "y= 3\n",
      "z= 4\n",
      "该四个数从大到小排列：\n",
      "['4', '3', '2', '1']\n"
     ]
    }
   ],
   "source": [
    "print(\"请输入四个数：\")\n",
    "w=input()\n",
    "x=input()\n",
    "y=input()\n",
    "z=input()\n",
    "\n",
    "print(\"w=\",w)\n",
    "print(\"x=\",x)\n",
    "print(\"y=\",y)\n",
    "print(\"z=\",z)\n",
    "\n",
    "list=[w,x,y,z]\n",
    "list.sort(reverse=True)\n",
    "print(\"该四个数从大到小排列：\")\n",
    "print(list)"
   ]
  },
  {
   "cell_type": "markdown",
   "metadata": {},
   "source": [
    "4、输出 1-100 中的所有奇数。"
   ]
  },
  {
   "cell_type": "code",
   "execution_count": 7,
   "metadata": {},
   "outputs": [
    {
     "name": "stdout",
     "output_type": "stream",
     "text": [
      "1-100 中的所有奇数:\n",
      "1 3 5 7 9 11 13 15 17 19 21 23 25 27 29 31 33 35 37 39 41 43 45 47 49 51 53 55 57 59 61 63 65 67 69 71 73 75 77 79 81 83 85 87 89 91 93 95 97 99 "
     ]
    }
   ],
   "source": [
    "print(\"1-100 中的所有奇数:\")\n",
    "for i in range(1,101,2):\n",
    "    print(i,end=\" \")"
   ]
  },
  {
   "cell_type": "markdown",
   "metadata": {},
   "source": [
    "5、用 for 循环，求解 1 到 100 的和。"
   ]
  },
  {
   "cell_type": "code",
   "execution_count": 8,
   "metadata": {},
   "outputs": [
    {
     "name": "stdout",
     "output_type": "stream",
     "text": [
      "1 到 100 的和:\n",
      "5050\n"
     ]
    }
   ],
   "source": [
    "print(\"1 到 100 的和:\")\n",
    "sum=0\n",
    "for i in range(1,101):\n",
    "    sum+=i\n",
    "print(sum)"
   ]
  },
  {
   "cell_type": "markdown",
   "metadata": {},
   "source": [
    "6、分别用 for 和 while 循环实现对一个给定序列的倒排序输出。例如，给定 L=[1,2,3,4,5]，输出为 [5,4,3,2,1]。\n"
   ]
  },
  {
   "cell_type": "code",
   "execution_count": 10,
   "metadata": {},
   "outputs": [
    {
     "name": "stdout",
     "output_type": "stream",
     "text": [
      "给定序列： [1, 2, 3, 4, 5]\n",
      "for循环：\n",
      "5 4 3 2 1 \n",
      "while循环：\n",
      "5 4 3 2 1 "
     ]
    }
   ],
   "source": [
    "L=[1,2,3,4,5]\n",
    "print(\"给定序列：\",L)\n",
    "print(\"for循环：\")\n",
    "for i in range(len(L)-1,-1,-1):\n",
    "    print(L[i],end=\" \")\n",
    "print()\n",
    "print(\"while循环：\")\n",
    "i=len(L)-1\n",
    "while i>-1:\n",
    "    print(L[i],end=\" \")\n",
    "    i=i-1"
   ]
  },
  {
   "cell_type": "markdown",
   "metadata": {},
   "source": [
    "7、判断一个输入的字符串 S 是否包含由两个或两个以上连续出现的相同字符组成的字符串。例如，abccccda 中就包含 cccc 这个由 4 个连续字符组成的字符串。\n"
   ]
  },
  {
   "cell_type": "code",
   "execution_count": 11,
   "metadata": {},
   "outputs": [
    {
     "name": "stdout",
     "output_type": "stream",
     "text": [
      "输入一个字符串：\n",
      "输入的字符串为： abccccda\n",
      "包含连续字符\n"
     ]
    }
   ],
   "source": [
    "print(\"输入一个字符串：\")\n",
    "S=input()\n",
    "print(\"输入的字符串为：\",S)\n",
    "key=0\n",
    "for i in range(0,len(S)-1):\n",
    "    if S[i]==S[i+1]:\n",
    "        key=1\n",
    "if key==1:\n",
    "    print(\"包含连续字符\")\n",
    "else:\n",
    "    print(\"不包含连续字符\")"
   ]
  },
  {
   "cell_type": "markdown",
   "metadata": {},
   "source": [
    "8、输入一个字符串 S，去掉其中所有的空格后输出。例如，“DataScience and Engineering”，去掉空格后为“DataScienceandEngineering”。"
   ]
  },
  {
   "cell_type": "code",
   "execution_count": 12,
   "metadata": {},
   "outputs": [
    {
     "name": "stdout",
     "output_type": "stream",
     "text": [
      "输入一个字符串：\n",
      "输入的字符串为： DataScience and Engineering\n",
      "移除空格后： DataScienceandEngineering\n"
     ]
    }
   ],
   "source": [
    "print(\"输入一个字符串：\")\n",
    "S=input()\n",
    "print(\"输入的字符串为：\",S)\n",
    "S=S.replace(\" \",\"\")\n",
    "print(f\"移除空格后：\",S)\n"
   ]
  },
  {
   "cell_type": "markdown",
   "metadata": {},
   "source": [
    "9、请设计一个求 3 次方根的算法（不允许直接调用求方根的函数）, 采用牛顿迭代法求解，迭代过程数学公式表示为：\n",
    "    $ x_{n+1}=x_n-\\frac{f(x_n)}{f^{\\prime}(x_n)}$\n"
   ]
  },
  {
   "cell_type": "code",
   "execution_count": 13,
   "metadata": {},
   "outputs": [
    {
     "name": "stdout",
     "output_type": "stream",
     "text": [
      "输入一个数：\n",
      "输入的数为：125.0\n",
      "125.0的三次方根：5.0\n"
     ]
    }
   ],
   "source": [
    "def newSqrt(a,eps=1e-7,max_it=1000):\n",
    "    if a>=1:\n",
    "        x=a\n",
    "    else:\n",
    "        x=1.0\n",
    "\n",
    "    for _ in range(max_it):\n",
    "        fx=x**3-a\n",
    "        fpx=3*x**2\n",
    "\n",
    "        x_new=x-fx/fpx\n",
    "\n",
    "        if abs(x_new-x)<eps:\n",
    "            return x_new\n",
    "        x=x_new\n",
    "\n",
    "    return x\n",
    "\n",
    "print(\"输入一个数：\")\n",
    "Xn=float(input())\n",
    "print(f\"输入的数为：{Xn}\")\n",
    "result=newSqrt(Xn)\n",
    "print(f\"{Xn}的三次方根：{result}\",)"
   ]
  },
  {
   "cell_type": "markdown",
   "metadata": {},
   "source": [
    "10、写一个 Python 程序，给定一个常数 n（n>0），求 n 的阶乘，即 n!=1×2×...×(n-1)×n。例如，4!=24，5!=120\n"
   ]
  },
  {
   "cell_type": "code",
   "execution_count": 14,
   "metadata": {},
   "outputs": [
    {
     "name": "stdout",
     "output_type": "stream",
     "text": [
      "输入一个自然数：\n",
      "输入的数为：5\n",
      "5的阶乘为120\n"
     ]
    }
   ],
   "source": [
    "def F(n):\n",
    "    if n>1:\n",
    "        return n*F(n-1)\n",
    "    else:\n",
    "        return n\n",
    "\n",
    "print(\"输入一个自然数：\")\n",
    "n=int(input())\n",
    "print(f\"输入的数为：{n}\")\n",
    "result=F(n)\n",
    "print(f\"{n}的阶乘为{result}\")\n"
   ]
  }
 ],
 "metadata": {
  "kernelspec": {
   "display_name": "pytorch",
   "language": "python",
   "name": "python3"
  },
  "language_info": {
   "codemirror_mode": {
    "name": "ipython",
    "version": 3
   },
   "file_extension": ".py",
   "mimetype": "text/x-python",
   "name": "python",
   "nbconvert_exporter": "python",
   "pygments_lexer": "ipython3",
   "version": "3.9.18"
  }
 },
 "nbformat": 4,
 "nbformat_minor": 2
}
