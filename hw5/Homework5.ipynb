{
 "cells": [
  {
   "cell_type": "markdown",
   "metadata": {},
   "source": [
    "0. 所有的题目结果中，给出SQL语句和执行结果。"
   ]
  },
  {
   "cell_type": "markdown",
   "metadata": {},
   "source": [
    "1. 在新数据库中新建一张 user 表,插入几条数据,属性包含:唯一标识(id),姓名(name)性别(sex).年龄(age).联系方式(phone)，数据如下：\n",
    "\n",
    "    ('John Doe', 'Male', 25, '123-456-7890')\n",
    "\n",
    "    ('Jane Smith', 'Female', 31, '987-654-3210')\n",
    "    \n",
    "    ('Bob Johnson', 'Male', 22, '555-123-4567')"
   ]
  },
  {
   "cell_type": "code",
   "execution_count": 43,
   "metadata": {},
   "outputs": [
    {
     "name": "stdout",
     "output_type": "stream",
     "text": [
      "<mysql.connector.connection.MySQLConnection object at 0x000001A822C28AF0>\n"
     ]
    }
   ],
   "source": [
    "import mysql.connector\n",
    "\n",
    "mydb=mysql.connector.connect(\n",
    "    host=\"localhost\",\n",
    "    user=\"root\",\n",
    "    passwd=\"test1234\",\n",
    "    auth_plugin='mysql_native_password'\n",
    ")\n",
    "\n",
    "print(mydb)"
   ]
  },
  {
   "cell_type": "code",
   "execution_count": 44,
   "metadata": {},
   "outputs": [
    {
     "name": "stdout",
     "output_type": "stream",
     "text": [
      "('information_schema',)\n",
      "('mysql',)\n",
      "('performance_schema',)\n",
      "('sys',)\n"
     ]
    },
    {
     "data": {
      "text/plain": [
       "True"
      ]
     },
     "execution_count": 44,
     "metadata": {},
     "output_type": "execute_result"
    }
   ],
   "source": [
    "mycursor=mydb.cursor()\n",
    "\n",
    "mycursor.execute(\"SHOW DATABASES\")\n",
    "for x in mycursor:\n",
    "    print(x)\n",
    "mycursor.close()"
   ]
  },
  {
   "cell_type": "code",
   "execution_count": 45,
   "metadata": {},
   "outputs": [
    {
     "data": {
      "text/plain": [
       "True"
      ]
     },
     "execution_count": 45,
     "metadata": {},
     "output_type": "execute_result"
    }
   ],
   "source": [
    "mycursor=mydb.cursor()\n",
    "mycursor.execute(\"CREATE DATABASE hw5\")\n",
    "mycursor.close()"
   ]
  },
  {
   "cell_type": "code",
   "execution_count": 46,
   "metadata": {},
   "outputs": [
    {
     "data": {
      "text/plain": [
       "True"
      ]
     },
     "execution_count": 46,
     "metadata": {},
     "output_type": "execute_result"
    }
   ],
   "source": [
    "mycursor=mydb.cursor()\n",
    "mycursor.execute(\"USE hw5\")\n",
    "mycursor.execute(\"CREATE TABLE user(id INT AUTO_INCREMENT PRIMARY KEY,name VARCHAR(255) NOT NULL,sex VARCHAR(10) NOT NULL,age INT NOT NULL,phone VARCHAR(20) NOT NULL)\")\n",
    "mycursor.execute(\"INSERT INTO user (name, sex, age, phone) VALUES('John Doe', 'Male', 25, '123-456-7890'),('Jane Smith', 'Female', 31, '987-654-3210'),('Bob Johnson', 'Male', 22, '555-123-4567')\")\n",
    "mycursor.close()"
   ]
  },
  {
   "cell_type": "code",
   "execution_count": 47,
   "metadata": {},
   "outputs": [
    {
     "name": "stdout",
     "output_type": "stream",
     "text": [
      "(1, 'John Doe', 'Male', 25, '123-456-7890')\n",
      "(2, 'Jane Smith', 'Female', 31, '987-654-3210')\n",
      "(3, 'Bob Johnson', 'Male', 22, '555-123-4567')\n"
     ]
    },
    {
     "data": {
      "text/plain": [
       "True"
      ]
     },
     "execution_count": 47,
     "metadata": {},
     "output_type": "execute_result"
    }
   ],
   "source": [
    "mycursor=mydb.cursor()\n",
    "mycursor.execute(\"SELECT * FROM user\")\n",
    "\n",
    "result=mycursor.fetchall()\n",
    "for row in result:\n",
    "    print(row)\n",
    "mycursor.close()"
   ]
  },
  {
   "cell_type": "markdown",
   "metadata": {},
   "source": [
    "2. 写出 SQL语句,查询 user 表中所有年龄在 20-30 范围内的用户"
   ]
  },
  {
   "cell_type": "code",
   "execution_count": 48,
   "metadata": {},
   "outputs": [
    {
     "name": "stdout",
     "output_type": "stream",
     "text": [
      "(1, 'John Doe', 'Male', 25, '123-456-7890')\n",
      "(3, 'Bob Johnson', 'Male', 22, '555-123-4567')\n"
     ]
    },
    {
     "data": {
      "text/plain": [
       "True"
      ]
     },
     "execution_count": 48,
     "metadata": {},
     "output_type": "execute_result"
    }
   ],
   "source": [
    "mycursor=mydb.cursor()\n",
    "mycursor.execute(\"SELECT * FROM user WHERE age BETWEEN 20 AND 30\")\n",
    "result=mycursor.fetchall()\n",
    "for row in result:\n",
    "    print(row)\n",
    "mycursor.close()"
   ]
  },
  {
   "cell_type": "markdown",
   "metadata": {},
   "source": [
    "3. 写出SQL语句，向user表中添加自己的个人信息，并添加几条和你姓名同姓的虚拟信息。"
   ]
  },
  {
   "cell_type": "code",
   "execution_count": 49,
   "metadata": {},
   "outputs": [
    {
     "name": "stdout",
     "output_type": "stream",
     "text": [
      "(1, 'John Doe', 'Male', 25, '123-456-7890')\n",
      "(2, 'Jane Smith', 'Female', 31, '987-654-3210')\n",
      "(3, 'Bob Johnson', 'Male', 22, '555-123-4567')\n",
      "(4, '吴彤', '女', 20, '18788719726')\n",
      "(5, '吴伟', '男', 25, '123-456-7890')\n",
      "(6, '吴丽', '女', 15, '987-654-3210')\n",
      "(7, '吴强', '男', 19, '555-123-4567')\n"
     ]
    },
    {
     "data": {
      "text/plain": [
       "True"
      ]
     },
     "execution_count": 49,
     "metadata": {},
     "output_type": "execute_result"
    }
   ],
   "source": [
    "mycursor=mydb.cursor()\n",
    "mycursor.execute(\"\"\"\n",
    "INSERT INTO user (name, sex, age, phone) VALUES\n",
    "('吴彤', '女', 20, '18788719726')\n",
    "\"\"\")\n",
    "mycursor.execute(\"\"\"\n",
    "INSERT INTO user (name, sex, age, phone) VALUES\n",
    "('吴伟', '男', 25, '123-456-7890'),\n",
    "('吴丽', '女', 15, '987-654-3210'),\n",
    "('吴强', '男', 19, '555-123-4567')\n",
    "\"\"\")\n",
    "\n",
    "mycursor.execute(\"SELECT * FROM user\")\n",
    "result = mycursor.fetchall()\n",
    "\n",
    "for row in result:\n",
    "    print(row)\n",
    "mycursor.close()"
   ]
  },
  {
   "cell_type": "markdown",
   "metadata": {},
   "source": [
    "4. 写出 SQL语句,查询 user 表中年龄在 20-30 范围内,名字包含“你的姓氏”的用户,并按照年龄从大到小排序输出"
   ]
  },
  {
   "cell_type": "code",
   "execution_count": 50,
   "metadata": {},
   "outputs": [
    {
     "name": "stdout",
     "output_type": "stream",
     "text": [
      "(5, '吴伟', '男', 25, '123-456-7890')\n",
      "(4, '吴彤', '女', 20, '18788719726')\n"
     ]
    },
    {
     "data": {
      "text/plain": [
       "True"
      ]
     },
     "execution_count": 50,
     "metadata": {},
     "output_type": "execute_result"
    }
   ],
   "source": [
    "mycursor=mydb.cursor()\n",
    "mycursor.execute(\"\"\"\n",
    "SELECT * FROM user\n",
    "WHERE age BETWEEN 20 AND 30\n",
    "AND name LIKE '%吴%'\n",
    "ORDER BY age DESC\n",
    "\"\"\")\n",
    "\n",
    "result = mycursor.fetchall()\n",
    "\n",
    "for row in result:\n",
    "    print(row)\n",
    "mycursor.close()"
   ]
  },
  {
   "cell_type": "markdown",
   "metadata": {},
   "source": [
    "5. 写出 SQL 语句,计算 user 表中所有用户的平均年龄"
   ]
  },
  {
   "cell_type": "code",
   "execution_count": 51,
   "metadata": {},
   "outputs": [
    {
     "name": "stdout",
     "output_type": "stream",
     "text": [
      "所有用户的平均年龄是: 22.43\n"
     ]
    },
    {
     "data": {
      "text/plain": [
       "True"
      ]
     },
     "execution_count": 51,
     "metadata": {},
     "output_type": "execute_result"
    }
   ],
   "source": [
    "mycursor=mydb.cursor()\n",
    "mycursor.execute(\"SELECT AVG(age) AS average_age FROM user\")\n",
    "result = mycursor.fetchone()\n",
    "print(f\"所有用户的平均年龄是: {result[0]:.2f}\")\n",
    "mycursor.close()"
   ]
  },
  {
   "cell_type": "markdown",
   "metadata": {},
   "source": [
    "6. 新建两张表team 表(id,teamName)和score 表(id,teamid,userid,score)。其中score 表中的 teamid 为指向 team表id 的外键，userid 为指向 user表id的外键"
   ]
  },
  {
   "cell_type": "code",
   "execution_count": 52,
   "metadata": {},
   "outputs": [
    {
     "data": {
      "text/plain": [
       "True"
      ]
     },
     "execution_count": 52,
     "metadata": {},
     "output_type": "execute_result"
    }
   ],
   "source": [
    "mycursor=mydb.cursor()\n",
    "mycursor.execute(\"\"\"\n",
    "CREATE TABLE IF NOT EXISTS team (\n",
    "    id INT AUTO_INCREMENT PRIMARY KEY,\n",
    "    teamName VARCHAR(255) NOT NULL\n",
    ")\n",
    "\"\"\")\n",
    "\n",
    "mycursor.execute(\"\"\"\n",
    "CREATE TABLE IF NOT EXISTS score (\n",
    "    id INT AUTO_INCREMENT PRIMARY KEY,\n",
    "    teamid INT,\n",
    "    userid INT,\n",
    "    score INT,\n",
    "    FOREIGN KEY (teamid) REFERENCES team(id),\n",
    "    FOREIGN KEY (userid) REFERENCES user(id)\n",
    ")\n",
    "\"\"\")\n",
    "mycursor.close()"
   ]
  },
  {
   "cell_type": "markdown",
   "metadata": {},
   "source": [
    "7. 在team表中和score表中插入合适的记录，写出 SQL语句,查询 teamName 为“ECNU”的队伍中，年龄小于 20 的用户们，结果不得为空。"
   ]
  },
  {
   "cell_type": "code",
   "execution_count": 53,
   "metadata": {},
   "outputs": [
    {
     "data": {
      "text/plain": [
       "True"
      ]
     },
     "execution_count": 53,
     "metadata": {},
     "output_type": "execute_result"
    }
   ],
   "source": [
    "mycursor=mydb.cursor()\n",
    "mycursor.execute(\"\"\"\n",
    "INSERT INTO team (teamName) VALUES \n",
    "('ECNU'),\n",
    "('Team A'),\n",
    "('Team B'),\n",
    "('Team C')\n",
    "\"\"\")\n",
    "\n",
    "mycursor.execute(\"\"\"\n",
    "INSERT INTO score (teamid, userid, score) VALUES\n",
    "(1, 1, 85),  \n",
    "(1, 2, 90),  \n",
    "(3, 3, 88),  \n",
    "(2, 4, 75),  \n",
    "(2, 5, 80),  \n",
    "(1, 6, 95),  \n",
    "(1, 7, 70)\n",
    "\"\"\")\n",
    "\n",
    "mycursor.close()"
   ]
  },
  {
   "cell_type": "code",
   "execution_count": 54,
   "metadata": {},
   "outputs": [
    {
     "name": "stdout",
     "output_type": "stream",
     "text": [
      "(6, '吴丽', '女', 15, '987-654-3210')\n",
      "(7, '吴强', '男', 19, '555-123-4567')\n"
     ]
    },
    {
     "data": {
      "text/plain": [
       "True"
      ]
     },
     "execution_count": 54,
     "metadata": {},
     "output_type": "execute_result"
    }
   ],
   "source": [
    "mycursor=mydb.cursor()\n",
    "mycursor.execute(\"SELECT id FROM team WHERE teamName = 'ECNU'\")\n",
    "team_id = mycursor.fetchone()[0]\n",
    "\n",
    "mycursor.execute(\"\"\"\n",
    "SELECT u.* FROM user u\n",
    "JOIN score s ON u.id = s.userid\n",
    "JOIN team t ON s.teamid = t.id\n",
    "WHERE t.teamName = 'ECNU' AND u.age < 20\n",
    "\"\"\")\n",
    "\n",
    "result = mycursor.fetchall()\n",
    "for row in result:\n",
    "    print(row)\n",
    "mycursor.close()"
   ]
  },
  {
   "cell_type": "markdown",
   "metadata": {},
   "source": [
    "8. 写出 SQL 语句,计算 teamName为“ECNU”的总分(假设 score 存在 null值,nul值默认为 0 加入计算)。"
   ]
  },
  {
   "cell_type": "code",
   "execution_count": 55,
   "metadata": {},
   "outputs": [
    {
     "name": "stdout",
     "output_type": "stream",
     "text": [
      "teamName 为 'ECNU' 的总分是: 340\n"
     ]
    },
    {
     "data": {
      "text/plain": [
       "True"
      ]
     },
     "execution_count": 55,
     "metadata": {},
     "output_type": "execute_result"
    }
   ],
   "source": [
    "mycursor=mydb.cursor()\n",
    "\n",
    "mycursor.execute(\"\"\"\n",
    "SELECT t.teamName, COALESCE(SUM(s.score), 0) AS total_score\n",
    "FROM team t\n",
    "JOIN score s ON t.id = s.teamid\n",
    "WHERE t.teamName = 'ECNU'\n",
    "GROUP BY t.teamName\n",
    "\"\"\")\n",
    "result = mycursor.fetchone()\n",
    "print(f\"teamName 为 'ECNU' 的总分是: {result[1]}\")\n",
    "mycursor.close()"
   ]
  },
  {
   "cell_type": "markdown",
   "metadata": {},
   "source": [
    "9. 写出SQL语句，删除user表中个人信息的记录。"
   ]
  },
  {
   "cell_type": "code",
   "execution_count": 57,
   "metadata": {},
   "outputs": [
    {
     "name": "stdout",
     "output_type": "stream",
     "text": [
      "user 表中的记录:\n",
      "(1, 'John Doe', 'Male', 25, '123-456-7890')\n",
      "(2, 'Jane Smith', 'Female', 31, '987-654-3210')\n",
      "(3, 'Bob Johnson', 'Male', 22, '555-123-4567')\n",
      "(5, '吴伟', '男', 25, '123-456-7890')\n",
      "(6, '吴丽', '女', 15, '987-654-3210')\n",
      "(7, '吴强', '男', 19, '555-123-4567')\n"
     ]
    },
    {
     "data": {
      "text/plain": [
       "True"
      ]
     },
     "execution_count": 57,
     "metadata": {},
     "output_type": "execute_result"
    }
   ],
   "source": [
    "mycursor=mydb.cursor()\n",
    "\n",
    "mycursor.execute(\"SELECT id FROM user WHERE name = '吴彤'\")\n",
    "user_ids = mycursor.fetchall()\n",
    "for user_id in user_ids:\n",
    "    mycursor.execute(\"DELETE FROM score WHERE userid = %s\", (user_id[0],))\n",
    "\n",
    "mycursor.execute(\"DELETE FROM user WHERE name = '吴彤'\")\n",
    "mydb.commit()\n",
    "mycursor.execute(\"SELECT * FROM user\")\n",
    "users = mycursor.fetchall()\n",
    "print(\"user 表中的记录:\")\n",
    "for user in users:\n",
    "    print(user)\n",
    "mycursor.close()"
   ]
  },
  {
   "cell_type": "code",
   "execution_count": 58,
   "metadata": {},
   "outputs": [],
   "source": [
    "mydb.close()"
   ]
  }
 ],
 "metadata": {
  "kernelspec": {
   "display_name": "pytorch",
   "language": "python",
   "name": "python3"
  },
  "language_info": {
   "codemirror_mode": {
    "name": "ipython",
    "version": 3
   },
   "file_extension": ".py",
   "mimetype": "text/x-python",
   "name": "python",
   "nbconvert_exporter": "python",
   "pygments_lexer": "ipython3",
   "version": "3.9.18"
  }
 },
 "nbformat": 4,
 "nbformat_minor": 2
}
