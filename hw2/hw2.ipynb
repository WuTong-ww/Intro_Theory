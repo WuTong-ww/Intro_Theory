{
 "cells": [
  {
   "cell_type": "markdown",
   "metadata": {},
   "source": [
    "1. 求两个正整数的最大公约数。"
   ]
  },
  {
   "cell_type": "code",
   "execution_count": 6,
   "metadata": {},
   "outputs": [
    {
     "name": "stdout",
     "output_type": "stream",
     "text": [
      "请输入两个数字：\n",
      "num1= 56\n",
      "num2= 30\n",
      "56和30的最大公约数为2\n"
     ]
    }
   ],
   "source": [
    "def gcd(a,b):\n",
    "    if a<b:\n",
    "        tmp=a\n",
    "        a=b\n",
    "        b=tmp    \n",
    "    if b==0:\n",
    "        return a\n",
    "    else:\n",
    "        return gcd(b,a%b)\n",
    "\n",
    "print(\"请输入两个数字：\")\n",
    "num1=int(input())\n",
    "num2=int(input())\n",
    "print(\"num1=\",num1)\n",
    "print(\"num2=\",num2)\n",
    "\n",
    "g=gcd(num1,num2)\n",
    "print(f\"{num1}和{num2}的最大公约数为{g}\")\n"
   ]
  },
  {
   "cell_type": "markdown",
   "metadata": {},
   "source": [
    "2. 用if语句实现百分制转等级制（考试成绩，60分以下不合格，60—74分合格，75—89分为良好，90分以上为优秀）。"
   ]
  },
  {
   "cell_type": "code",
   "execution_count": 10,
   "metadata": {},
   "outputs": [
    {
     "name": "stdout",
     "output_type": "stream",
     "text": [
      "请输入分数：\n",
      "num= 87\n",
      "87对应等级为: 良好\n"
     ]
    }
   ],
   "source": [
    "def rank(num):\n",
    "    if num>=90:\n",
    "        rank=\"优秀\"\n",
    "    elif num>=75:\n",
    "        rank=\"良好\"\n",
    "    elif num>=60:\n",
    "        rank=\"合格\"\n",
    "    else:\n",
    "        rank=\"不合格\"\n",
    "    return rank\n",
    "\n",
    "print(\"请输入分数：\")\n",
    "num=int(input())\n",
    "print(\"num=\",num)\n",
    "print(f\"{num}对应等级为:\",rank(num))\n",
    "\n",
    "        "
   ]
  },
  {
   "cell_type": "markdown",
   "metadata": {},
   "source": [
    "3. 编写Python程序，完成十到二进制小数的转换\n",
    "\n",
    "相关数学原理：https://cloud.tencent.com/developer/article/2155741"
   ]
  },
  {
   "cell_type": "code",
   "execution_count": 14,
   "metadata": {},
   "outputs": [
    {
     "name": "stdout",
     "output_type": "stream",
     "text": [
      "请输入一个数：\n",
      "num= 173.8125\n",
      "173.8125转化为二进制是： 10101101.1101\n"
     ]
    }
   ],
   "source": [
    "def D2B(num):\n",
    "    intpart=int(num)\n",
    "    floatpart=num-intpart\n",
    "    \n",
    "    #整数部分\n",
    "    intB=\"\"\n",
    "    if intpart==0:\n",
    "        intB=\"0\"\n",
    "    else:\n",
    "        while intpart>0:\n",
    "            intB=str(intpart%2)+intB\n",
    "            intpart=intpart//2\n",
    "    \n",
    "    \n",
    "    #小数部分\n",
    "    floatB=\"\"\n",
    "    while floatpart>0:\n",
    "        floatpart*=2\n",
    "        bit=int(floatpart)\n",
    "        floatB=floatB+str(bit)\n",
    "        floatpart-=bit\n",
    "        if len(floatB)>10:\n",
    "            break\n",
    "    \n",
    "    return intB+\".\"+floatB\n",
    "\n",
    "print(\"请输入一个数：\")\n",
    "num=float(input())\n",
    "print(\"num=\",num)\n",
    "print(f\"{num}转化为二进制是：\",D2B(num))\n",
    "        \n",
    "    "
   ]
  },
  {
   "cell_type": "markdown",
   "metadata": {},
   "source": [
    "4. 编写Python程序，产生10-20的随机浮点数"
   ]
  },
  {
   "cell_type": "code",
   "execution_count": 15,
   "metadata": {},
   "outputs": [
    {
     "name": "stdout",
     "output_type": "stream",
     "text": [
      "随机产生的10~20浮点数为：15.118521386247075\n"
     ]
    }
   ],
   "source": [
    "import random\n",
    "\n",
    "num=random.uniform(10,20)\n",
    "print(f\"随机产生的10~20浮点数为：{num}\")"
   ]
  },
  {
   "cell_type": "markdown",
   "metadata": {},
   "source": [
    "5. 编写一个Python函数，判断一个整数是否是回文数。回文数是指正序（从左向右）和倒序（从右向左）读都是一样的数。"
   ]
  },
  {
   "cell_type": "code",
   "execution_count": 21,
   "metadata": {},
   "outputs": [
    {
     "name": "stdout",
     "output_type": "stream",
     "text": [
      "请输入一个整数：\n",
      "num= 123321\n",
      "123321是一个回文数\n"
     ]
    }
   ],
   "source": [
    "def Bool_reverse(num):\n",
    "    reversenum=str(num)\n",
    "    reversenum=reversenum[::-1]\n",
    "    if int(reversenum)==num:\n",
    "        return 1\n",
    "    else:\n",
    "        return 0\n",
    "\n",
    "print(\"请输入一个整数：\")\n",
    "num=int(input())\n",
    "print(\"num=\",num)\n",
    "if Bool_reverse(num):\n",
    "    print(f\"{num}是一个回文数\")\n",
    "else:\n",
    "    print(f\"{num}不是一个回文数\")"
   ]
  },
  {
   "cell_type": "markdown",
   "metadata": {},
   "source": [
    "6.编写一个Python函数，返回一个包含斐波那契数列的前N个数的列表。斐波那契数列是一个数列，其中每个数是前两个数的和，数列以0和1开始。"
   ]
  },
  {
   "cell_type": "code",
   "execution_count": 24,
   "metadata": {},
   "outputs": [
    {
     "name": "stdout",
     "output_type": "stream",
     "text": [
      "请输入一个正整数：\n",
      "num= 20\n",
      "斐波拉契数列前20个数为： [0, 1, 1, 2, 3, 5, 8, 13, 21, 34, 55, 89, 144, 233, 377, 610, 987, 1597, 2584, 4181]\n"
     ]
    }
   ],
   "source": [
    "def Fib(n):\n",
    "    if n==1:\n",
    "        return 0\n",
    "    elif n==2:\n",
    "        return 1\n",
    "    else:\n",
    "        return Fib(n-2)+Fib(n-1)\n",
    "\n",
    "def list(n):\n",
    "    List=[]\n",
    "    for i in range(1,n+1):\n",
    "        List.append(Fib(i))\n",
    "    return List\n",
    "\n",
    "print(\"请输入一个正整数：\")\n",
    "num=int(input())\n",
    "print(\"num=\",num)\n",
    "print(f\"斐波拉契数列前{num}个数为：\",list(num))"
   ]
  },
  {
   "cell_type": "markdown",
   "metadata": {},
   "source": [
    "7.编写一个Python函数，接受一个整数数组作为输入，返回数组中第二大的数。如果数组中只有一个元素或数组为空，则返回-1。"
   ]
  },
  {
   "cell_type": "code",
   "execution_count": 35,
   "metadata": {},
   "outputs": [
    {
     "name": "stdout",
     "output_type": "stream",
     "text": [
      "请输入一个数组：(a为结束符)\n",
      "[2, 3, 4, 1, 3, 5, 6, 7, 2, 3, 2, 1]\n",
      "数组中第二大的数为6\n"
     ]
    }
   ],
   "source": [
    "import random\n",
    "\n",
    "def exchange(A,a,b):\n",
    "    tmp=A[a]\n",
    "    A[a]=A[b]\n",
    "    A[b]=tmp\n",
    "    \n",
    "def Partition(A,p,r):\n",
    "    x=A[r]\n",
    "    i=p-1\n",
    "    for j in range(p,r):\n",
    "        if A[j]<=x:\n",
    "            i+=1\n",
    "            exchange(A,i,j)\n",
    "    exchange(A,i+1,r)\n",
    "    return i+1\n",
    "\n",
    "def Random_Partition(A,p,r):\n",
    "    i=random.randint(p,r)\n",
    "    exchange(A,i,r)\n",
    "    return Partition(A,p,r)\n",
    "\n",
    "def Random_Select(A,p,r,i):\n",
    "    if p==r:\n",
    "        return A[p]\n",
    "    q=Random_Partition(A,p,r)\n",
    "    k=q-p+1\n",
    "    if i==k:\n",
    "        return A[q]\n",
    "    elif i<k:\n",
    "        return Random_Select(A,p,q-1,i)\n",
    "    else:\n",
    "        return Random_Select(A,q+1,r,i-k)\n",
    "    \n",
    "print(\"请输入一个数组：(a为结束符)\")\n",
    "A=[]\n",
    "num=input()\n",
    "while num!=\"a\":\n",
    "    A.append(int(num))\n",
    "    num=input()\n",
    "print(A)\n",
    "if len(A)<2:\n",
    "    print(-1)\n",
    "else:\n",
    "    result=Random_Select(A,0,len(A)-1,len(A)-1)\n",
    "    print(f\"数组中第二大的数为{result}\")\n",
    "    "
   ]
  },
  {
   "cell_type": "markdown",
   "metadata": {},
   "source": [
    "8. 编写一个函数，使其能够用正则表达式的方式简单验证身份证号是否合法。"
   ]
  },
  {
   "cell_type": "code",
   "execution_count": 37,
   "metadata": {},
   "outputs": [
    {
     "name": "stdout",
     "output_type": "stream",
     "text": [
      "24581549534912416\n",
      "不合法\n"
     ]
    }
   ],
   "source": [
    "import re\n",
    "def validate_id_card(id_card):\n",
    "    pattern=r'^[1-9]\\d{5}(19|20)\\d{2}(0[1-9]|1[0-2])(0[1-9][1-2]\\d|3[0-1])\\d{3}(\\d|X|x)$'\n",
    "    if re.match(pattern,id_card):\n",
    "        return True\n",
    "    else:\n",
    "        return False\n",
    "\n",
    "id_card=input(\"请输入身份证号：\")\n",
    "print(id_card)\n",
    "if validate_id_card(id_card):\n",
    "    print(\"合法\")\n",
    "else:\n",
    "    print(\"不合法\")\n",
    "    "
   ]
  },
  {
   "cell_type": "markdown",
   "metadata": {},
   "source": [
    "validate_id_card函数使用正则表达式模式来匹配身份证号。模式通过以下方式验证身份证号的格式：\n",
    "\n",
    "- 第一位必须是1-9的数字，不以0开头。\n",
    "- 接下来6位是地区码。\n",
    "- 紧接着8位是出生年份和月份。\n",
    "- 接下来2位是出生日。\n",
    "- 然后是3位顺序码（通常是随机数字）。\n",
    "- 最后一位可以是数字或大写字母X。\n",
    "\n",
    "\n",
    "^：表示匹配字符串的开头，确保正则表达式从字符串的开头开始匹配。\n",
    "\n",
    "[1-9]：表示第一位是数字，但不包括0。这是因为身份证号的第一位通常不是0。\n",
    "\n",
    "\\d{5}：表示接下来的5位是数字（0-9），共计6位，这部分用来表示地区编码。\n",
    "\n",
    "(19|20)：这是一个分组，用于匹配年份的前两位。身份证号通常使用19或20作为年份的前两位。\n",
    "\n",
    "\\d{2}：表示匹配年份的后两位，共计2位。\n",
    "\n",
    "(0[1-9]|1[0-2])：这是一个分组，用于匹配月份。月份的范围是01到12。这一部分可以匹配01到09月以及10到12月。\n",
    "\n",
    "(0[1-9]|[1-2]\\d|3[0-1])：这是一个分组，用于匹配日期。它可以匹配01到09日，10到29日，以及30到31日。\n",
    "\n",
    "\\d{3}：表示匹配身份证号中的顺序码，通常是3位数字。\n",
    "\n",
    "(\\d|X|x)：这是最后一部分，用于匹配身份证号的校验码。它可以是数字（0-9）或字母X（可以是大写或小写）。\n",
    "\n",
    "$：表示匹配字符串的结尾，确保正则表达式匹配到字符串的末尾。\n",
    "\n",
    "以下是一些常见的正则表达式模式：\n",
    "\n",
    "普通字符： 普通字符（例如字母、数字、标点符号等）表示它们自身。在示例中，\"apple\" 就是一个普通字符。\n",
    "\n",
    "特殊字符： 正则表达式中有一些特殊字符，如 .、*、+、? 等，它们具有特殊的含义。例如，\".\" 表示匹配任何字符，\"*\" 表示匹配前一个字符的零个或多个重复，\"+\" 表示匹配前一个字符的一个或多个重复，\"?\" 表示匹配前一个字符的零个或一个重复。这些特殊字符需要进行转义，如 \\.、\\*、\\+、\\? 来匹配它们自身。\n",
    "\n",
    "字符类： 使用 [...] 表示一个字符类，可以匹配括号内的任何一个字符。例如，[abc] 匹配字符 'a'、'b' 或 'c' 中的任何一个。\n",
    "\n",
    "范围字符类： 使用 [a-z] 表示匹配小写字母 'a' 到 'z' 中的任何一个字符。类似地，[0-9] 表示匹配数字 0 到 9 中的任何一个字符。\n",
    "\n",
    "反向字符类： 使用 [^...] 表示一个反向字符类，可以匹配不在括号内的任何字符。例如，[^0-9] 匹配任何非数字字符。\n",
    "\n",
    "预定义字符类： 正则表达式还提供了一些预定义的字符类，如 \\d 表示任何数字字符，\\w 表示任何字母、数字或下划线字符，\\s 表示任何空白字符。相应的大写形式 \\D、\\W、\\S 表示它们的补集。\n",
    "\n",
    "边界匹配： ^ 表示匹配字符串的开头，$ 表示匹配字符串的结尾。例如，\"^apple\" 匹配以 \"apple\" 开头的字符串。\n",
    "\n",
    "重复： 使用 {m} 表示前一个模式必须重复 m 次，使用 {m, n} 表示前一个模式必须重复至少 m 次，至多 n 次。例如，\"a{2,4}\" 匹配 \"aa\"、\"aaa\" 或 \"aaaa\"。\n",
    "\n",
    "逻辑操作： 正则表达式支持逻辑操作，如 | 表示或操作。例如，\"apple|banana\" 匹配 \"apple\" 或 \"banana\"。\n",
    "\n",
    "分组： 使用 () 创建分组，可以对模式进行分组和捕获。例如，\"(apple|banana)\" 匹配 \"apple\" 或 \"banana\"，并且可以通过捕获组来访问匹配的内容。\n",
    "\n",
    "在示例中，pattern 的形式是一个普通字符串 \"apple\"，它将匹配目标字符串的开头，只有当目标字符串以 \"apple\" 开头时才会找到匹配。"
   ]
  }
 ],
 "metadata": {
  "kernelspec": {
   "display_name": "pytorch",
   "language": "python",
   "name": "python3"
  },
  "language_info": {
   "codemirror_mode": {
    "name": "ipython",
    "version": 3
   },
   "file_extension": ".py",
   "mimetype": "text/x-python",
   "name": "python",
   "nbconvert_exporter": "python",
   "pygments_lexer": "ipython3",
   "version": "3.9.18"
  }
 },
 "nbformat": 4,
 "nbformat_minor": 2
}
